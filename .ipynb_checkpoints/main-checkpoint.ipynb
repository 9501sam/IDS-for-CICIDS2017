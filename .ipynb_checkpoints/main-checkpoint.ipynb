{
 "cells": [
  {
   "cell_type": "code",
   "execution_count": 27,
   "id": "02db3c18",
   "metadata": {},
   "outputs": [
    {
     "name": "stdout",
     "output_type": "stream",
     "text": [
      "cuda:0\n"
     ]
    }
   ],
   "source": [
    "import torch\n",
    "import copy\n",
    "import torch.nn as nn\n",
    "import torch.nn.functional as F\n",
    "from torch.optim import Adam # Adam is just like SGD but faster\n",
    "import numpy as np\n",
    "import pandas as pd\n",
    "from torch.utils.data import TensorDataset, DataLoader\n",
    "from sklearn.preprocessing import OneHotEncoder\n",
    "import tqdm\n",
    "import torch.optim as optim\n",
    "from sklearn.model_selection import train_test_split\n",
    "import torch.nn.functional as F\n",
    "import seaborn as sns  # Import Seaborn for the heatmap\n",
    "import threading\n",
    "import concurrent.futures\n",
    "import sys\n",
    "import matplotlib.pyplot as plt\n",
    "from sklearn.decomposition import PCA\n",
    "from sklearn import preprocessing\n",
    "from sklearn.preprocessing import LabelEncoder\n",
    "import os\n",
    "from collections import namedtuple\n",
    "from IPython.display import display, HTML\n",
    "# display(HTML(\"<style>.container { width:100% !important; }</style>\"))\n",
    "\n",
    "DEVICE = torch.device(\"cuda:0\" if torch.cuda.is_available() else \"cpu\")\n",
    "print(DEVICE)"
   ]
  },
  {
   "cell_type": "markdown",
   "id": "26dbc0d3",
   "metadata": {},
   "source": [
    "# Helper Functions"
   ]
  },
  {
   "cell_type": "code",
   "execution_count": 6,
   "id": "c3fb1397",
   "metadata": {},
   "outputs": [],
   "source": [
    "def print_df_with_all_rows(df):\n",
    "    pd.set_option('display.max_rows', None)\n",
    "    display(df)\n",
    "    pd.reset_option('display.max_rows')\n",
    "\n",
    "def print_df_with_all_cols(df):\n",
    "    pd.set_option('display.max_columns', None)\n",
    "    display(df)\n",
    "    pd.reset_option('display.max_columns')\n",
    "    \n",
    "def print_all_df(df):\n",
    "    pd.set_option('display.max_rows', None)\n",
    "    pd.set_option('display.max_columns', None)\n",
    "    display(df)\n",
    "    pd.reset_option('display.max_rows')\n",
    "    pd.reset_option('display.max_columns')\n",
    "\n",
    "def summary_a_df(df):\n",
    "    # Summary statistics for numerical columns\n",
    "    numerical_summary = df.describe()\n",
    "\n",
    "    # Summary statistics for string columns\n",
    "    string_summary = df.describe(include=['object'])\n",
    "\n",
    "    # Combine the summaries\n",
    "    summary = pd.concat([numerical_summary, string_summary], axis=1)\n",
    "\n",
    "    # Display the summary in table-like format\n",
    "    display(summary.style.set_caption(\"Summary Statistics\"))\n",
    "    \n",
    "def remove_nan_and_inf(df):\n",
    "    df = df.dropna(how='any', axis=0, inplace=False)\n",
    "    inf_condition = (df == np.inf).any(axis=1)\n",
    "    df = df[~inf_condition]\n",
    "    return df\n",
    "\n",
    "def count_labels(df):\n",
    "    label_counts = df[' Label'].value_counts()\n",
    "\n",
    "    # Convert the value counts into a DataFrame for better formatting\n",
    "    label_counts_df = pd.DataFrame(label_counts)\n",
    "\n",
    "    # Rename the column to make it more descriptive\n",
    "    label_counts_df.columns = ['Count']\n",
    "\n",
    "    # Print the table\n",
    "    display(label_counts_df)\n",
    "    \n",
    "def label_coding(df, label):\n",
    "    label_encoder = LabelEncoder()\n",
    "    df[label] = label_encoder.fit_transform(df[label])\n",
    "    return df"
   ]
  },
  {
   "cell_type": "markdown",
   "id": "574ed5c2",
   "metadata": {},
   "source": [
    "# Make csv File Training and Test set"
   ]
  },
  {
   "cell_type": "code",
   "execution_count": 28,
   "id": "5daf218d",
   "metadata": {},
   "outputs": [],
   "source": [
    "# Define a named tuple to represent the return type\n",
    "TrainTestSplit = namedtuple('TrainTestSplit', \n",
    "                            ['X_train', 'X_test', 'y_train', 'y_test', 'categories_as_list'])\n",
    "def get_train_and_test(dfs):\n",
    "    data = pd.concat(dfs, ignore_index=True)\n",
    "    data = remove_nan_and_inf(data)\n",
    "    \n",
    "    # summary_a_df(data)\n",
    "    \n",
    "    # drop some unused feature\n",
    "    data = data.drop(columns='Flow ID')\n",
    "\n",
    "    # do label encoding to some feature\n",
    "    label_encoder = LabelEncoder()\n",
    "    data[\" Source IP\"] = label_encoder.fit_transform(data[\" Source IP\"])\n",
    "    data[\" Source Port\"] = label_encoder.fit_transform(data[\" Source Port\"])\n",
    "    data[\" Destination IP\"] = label_encoder.fit_transform(data[\" Destination IP\"])\n",
    "    data[\" Destination Port\"] = label_encoder.fit_transform(data[\" Destination Port\"])\n",
    "    data[\" Timestamp\"] = label_encoder.fit_transform(data[\" Timestamp\"])\n",
    "\n",
    "    # Shuffle all the rows of the DataFrame\n",
    "    # data = data.sample(frac=1).reset_index(drop=True)\n",
    "    # summary_a_df(data)\n",
    "    \n",
    "    ### get `X` from `data`\n",
    "    X = data.drop(columns=' Label')\n",
    "    X = X.values.reshape(-1, X.shape[1]).astype('float32')\n",
    "    standardizer = preprocessing.StandardScaler()\n",
    "    X = standardizer.fit_transform(X)\n",
    "    \n",
    "    ### get `y` from `data`\n",
    "    y = data.iloc[:, -1:]\n",
    "    ohe = OneHotEncoder(handle_unknown='ignore', sparse_output=False).fit(y)\n",
    "    y = ohe.transform(y)\n",
    "    categories = ohe.categories_\n",
    "    categories_as_list = []\n",
    "    for i, label in enumerate(categories[0]):\n",
    "        categories_as_list.append(label)\n",
    "        \n",
    "    X = torch.tensor(X, dtype=torch.float32).to(DEVICE)\n",
    "    y = torch.tensor(y, dtype=torch.float32).to(DEVICE)\n",
    "\n",
    "    X_train, X_test, y_train, y_test = train_test_split(X, y, train_size=0.67, shuffle=True)\n",
    "    return TrainTestSplit(X_train, X_test, y_train, y_test, categories_as_list)"
   ]
  },
  {
   "cell_type": "code",
   "execution_count": 22,
   "id": "13dd6389",
   "metadata": {},
   "outputs": [
    {
     "name": "stderr",
     "output_type": "stream",
     "text": [
      "/tmp/ipykernel_2161648/1221332360.py:8: DtypeWarning: Columns (0,1,3,6,84) have mixed types. Specify dtype option on import or set low_memory=False.\n",
      "  df = pd.read_csv(file_path, encoding=encoding)\n"
     ]
    }
   ],
   "source": [
    "dataset_dir = './TrafficLabelling/'\n",
    "def read_csv(csv_file):\n",
    "    file_path = os.path.join(dataset_dir, csv_file)\n",
    "    # Try different encodings until the file is successfully read\n",
    "    df = None\n",
    "    for encoding in ['utf-8', 'latin1', 'ISO-8859-1', 'windows-1252']:\n",
    "        try:\n",
    "            df = pd.read_csv(file_path, encoding=encoding)\n",
    "            break  # Stop trying encodings once the file is successfully read\n",
    "        except UnicodeDecodeError:\n",
    "            continue\n",
    "    return df\n",
    "    \n",
    "df_Mon  = read_csv(\"Monday-WorkingHours.pcap_ISCX.csv\")\n",
    "df_Tue  = read_csv(\"Tuesday-WorkingHours.pcap_ISCX.csv\")\n",
    "df_Wed  = read_csv(\"Wednesday-workingHours.pcap_ISCX.csv\")\n",
    "df_Thu1 = read_csv(\"Thursday-WorkingHours-Afternoon-Infilteration.pcap_ISCX.csv\")\n",
    "df_Thu2 = read_csv(\"Thursday-WorkingHours-Morning-WebAttacks.pcap_ISCX.csv\")\n",
    "df_Fri1 = read_csv(\"Friday-WorkingHours-Afternoon-DDos.pcap_ISCX.csv\")\n",
    "df_Fri2 = read_csv(\"Friday-WorkingHours-Afternoon-PortScan.pcap_ISCX.csv\")\n",
    "df_Fri3 = read_csv(\"Friday-WorkingHours-Morning.pcap_ISCX.csv\")"
   ]
  },
  {
   "cell_type": "code",
   "execution_count": 32,
   "id": "0108f7a7",
   "metadata": {},
   "outputs": [],
   "source": [
    "Mon = get_train_and_test([df_Mon])"
   ]
  },
  {
   "cell_type": "markdown",
   "id": "5b26f603",
   "metadata": {},
   "source": [
    "# Defining models"
   ]
  },
  {
   "cell_type": "code",
   "execution_count": 41,
   "id": "d3baf784",
   "metadata": {},
   "outputs": [],
   "source": [
    "class ANN(nn.Module):\n",
    "    def __init__(self):\n",
    "        super().__init__()\n",
    "        self.hidden1 = nn.Linear(83, 50)\n",
    "        self.hidden2 = nn.Linear(50, 50)\n",
    "        self.output = nn.Linear(50, 1)\n",
    "    \n",
    "    def forward(self, x):\n",
    "        x = F.relu(self.hidden1(x))\n",
    "        x = F.relu(self.hidden2(x))\n",
    "        x = self.output(x)\n",
    "        return x\n",
    "ann = ANN().to(DEVICE)"
   ]
  },
  {
   "cell_type": "markdown",
   "id": "f9cd9583",
   "metadata": {},
   "source": [
    "# Function for Training Models"
   ]
  },
  {
   "cell_type": "code",
   "execution_count": 44,
   "id": "0d71c009",
   "metadata": {},
   "outputs": [],
   "source": [
    "def training_model(model, \n",
    "                   train_test,\n",
    "                   learning_rate, n_epochs, batch_size):\n",
    "    # get data from train_test\n",
    "    X_train            = train_test.X_train           \n",
    "    X_test             = train_test.X_test            \n",
    "    y_train            = train_test.y_train           \n",
    "    y_test             = train_test.y_test            \n",
    "    categories_as_list = train_test.categories_as_list\n",
    "    \n",
    "    loss_fn = nn.CrossEntropyLoss()\n",
    "    optimizer = optim.Adam(model.parameters(), lr=learning_rate)\n",
    "\n",
    "    # prepare model and training parameters\n",
    "    batches_per_epoch = len(X_train) // batch_size\n",
    "\n",
    "    best_acc = - np.inf   # init to negative infinity\n",
    "    best_weights = None\n",
    "    train_loss_hist = []\n",
    "    train_acc_hist = []\n",
    "    test_loss_hist = []\n",
    "    test_acc_hist = []\n",
    "    \n",
    "    # start training \n",
    "    for epoch in range(n_epochs):\n",
    "        epoch_loss = []\n",
    "        epoch_acc = []\n",
    "        # set model in training mode and run through each batch\n",
    "        model.train()\n",
    "        with tqdm.trange(batches_per_epoch, unit=\"batch\", mininterval=0) as bar:\n",
    "            bar.set_description(f\"Epoch {epoch}\")\n",
    "            for i in bar:\n",
    "                # take a batch\n",
    "                start = i * batch_size\n",
    "                X_batch = X_train[start:start+batch_size]\n",
    "                y_batch = y_train[start:start+batch_size]\n",
    "\n",
    "                # forward pass\n",
    "                y_pred = model(X_batch)\n",
    "                loss = loss_fn(y_pred, y_batch)\n",
    "\n",
    "                # backward pass\n",
    "                optimizer.zero_grad()\n",
    "                loss.backward()\n",
    "\n",
    "                # update weights\n",
    "                optimizer.step()\n",
    "\n",
    "                # compute and store metrics\n",
    "                acc = (torch.argmax(y_pred, 1) == torch.argmax(y_batch, 1)).float().mean()\n",
    "                epoch_loss.append(float(loss))\n",
    "                epoch_acc.append(float(acc))\n",
    "                bar.set_postfix(\n",
    "                    loss=float(loss),\n",
    "                    acc=float(acc)\n",
    "                )\n",
    "        # set model in evaluation mode and run through the test set\n",
    "        model.eval()\n",
    "        y_pred = model(X_test)\n",
    "        ce = loss_fn(y_pred, y_test)\n",
    "        acc = (torch.argmax(y_pred, 1) == torch.argmax(y_test, 1)).float().mean()\n",
    "        ce = float(ce)\n",
    "        acc = float(acc)\n",
    "        train_loss_hist.append(np.mean(epoch_loss))\n",
    "        train_acc_hist.append(np.mean(epoch_acc))\n",
    "        test_loss_hist.append(ce)\n",
    "        test_acc_hist.append(acc)\n",
    "        if acc > best_acc:\n",
    "            best_acc = acc\n",
    "            best_weights = copy.deepcopy(model.state_dict())\n",
    "        print(f\"Epoch {epoch} validation: Cross-entropy={ce:.2f}, Accuracy={acc*100:.1f}%\")\n",
    "        \n",
    "    # display result\n",
    "    # Restore best model\n",
    "    model.load_state_dict(best_weights)\n",
    "\n",
    "    # Plot the loss and accuracy\n",
    "    plt.plot(train_loss_hist, label=\"train\")\n",
    "    plt.plot(test_loss_hist, label=\"test\")\n",
    "    plt.xlabel(\"epochs\")\n",
    "    plt.ylabel(\"cross entropy\")\n",
    "    plt.legend()\n",
    "    # plt.savefig('cross_entropy.png')\n",
    "    plt.show()\n",
    "\n",
    "    plt.plot(train_acc_hist, label=\"train\")\n",
    "    plt.plot(test_acc_hist, label=\"test\")\n",
    "    plt.xlabel(\"epochs\")\n",
    "    plt.ylabel(\"accuracy\")\n",
    "    plt.legend()\n",
    "    # plt.savefig('accuracy.png')\n",
    "    plt.show()\n",
    "\n",
    "    model.eval()\n",
    "    with torch.no_grad():\n",
    "        y_pred = model(X_test)\n",
    "\n",
    "    y_pred_classes = torch.argmax(y_pred, dim=1).cpu().numpy()\n",
    "    y_true_classes = torch.argmax(y_test, dim=1).cpu().numpy()\n",
    "\n",
    "    from sklearn.metrics import confusion_matrix\n",
    "\n",
    "    confusion_mat = confusion_matrix(y_true_classes, y_pred_classes)\n",
    "\n",
    "    # Assuming you have already computed the confusion matrix\n",
    "    confusion_mat = confusion_matrix(y_true_classes, y_pred_classes)\n",
    "\n",
    "    # Define your custom class labels\n",
    "    # class_labels = ['normal', 'tcpfin', 'tcppush', 'tcprst', 'tcpsyn', 'udpflood']\n",
    "    class_labels = categories_as_list\n",
    "    # class_labels = [i for i in range(1, 16)]\n",
    "    # Create a heatmap of the confusion matrix with custom labels\n",
    "    # categories_as_list = [item for sublist in categories for item in sublist]  # Flatten the categories list\n",
    "    # class_labels = categories_as_list\n",
    "\n",
    "    plt.figure(figsize=(16, 12))\n",
    "    sns.heatmap(confusion_mat, annot=True, fmt='d', cmap='Blues', cbar=False,\n",
    "                        xticklabels=class_labels, yticklabels=class_labels)\n",
    "    plt.xlabel('Predicted')\n",
    "    plt.ylabel('Actual')\n",
    "    plt.title('Confusion Matrix')\n",
    "    # plt.savefig('confusion_matrix.png')\n",
    "    plt.show()"
   ]
  },
  {
   "cell_type": "code",
   "execution_count": 45,
   "id": "dc08d3ec",
   "metadata": {
    "scrolled": true
   },
   "outputs": [
    {
     "name": "stdout",
     "output_type": "stream",
     "text": [
      "1\n"
     ]
    },
    {
     "name": "stderr",
     "output_type": "stream",
     "text": [
      "Epoch 0: 100%|████████████████████████████████████████████████████████████████████████████████████████████| 692/692 [00:00<00:00, 736.02batch/s, acc=1, loss=-]\n"
     ]
    },
    {
     "name": "stdout",
     "output_type": "stream",
     "text": [
      "Epoch 0 validation: Cross-entropy=-0.00, Accuracy=100.0%\n"
     ]
    },
    {
     "name": "stderr",
     "output_type": "stream",
     "text": [
      "Epoch 1: 100%|████████████████████████████████████████████████████████████████████████████████████████████| 692/692 [00:00<00:00, 778.28batch/s, acc=1, loss=-]\n"
     ]
    },
    {
     "name": "stdout",
     "output_type": "stream",
     "text": [
      "Epoch 1 validation: Cross-entropy=-0.00, Accuracy=100.0%\n"
     ]
    },
    {
     "name": "stderr",
     "output_type": "stream",
     "text": [
      "Epoch 2:  16%|██████████████▍                                                                             | 109/692 [00:00<00:00, 966.57batch/s, acc=1, loss=-]IOPub message rate exceeded.\n",
      "The notebook server will temporarily stop sending output\n",
      "to the client in order to avoid crashing it.\n",
      "To change this limit, set the config variable\n",
      "`--NotebookApp.iopub_msg_rate_limit`.\n",
      "\n",
      "Current values:\n",
      "NotebookApp.iopub_msg_rate_limit=1000.0 (msgs/sec)\n",
      "NotebookApp.rate_limit_window=3.0 (secs)\n",
      "\n",
      "Epoch 3: 100%|████████████████████████████████████████████████████████████████████████████████████████████| 692/692 [00:00<00:00, 851.80batch/s, acc=1, loss=-]\n"
     ]
    },
    {
     "name": "stdout",
     "output_type": "stream",
     "text": [
      "Epoch 3 validation: Cross-entropy=-0.00, Accuracy=100.0%\n"
     ]
    },
    {
     "name": "stderr",
     "output_type": "stream",
     "text": [
      "Epoch 4: 100%|████████████████████████████████████████████████████████████████████████████████████████████| 692/692 [00:00<00:00, 784.90batch/s, acc=1, loss=-]\n"
     ]
    },
    {
     "name": "stdout",
     "output_type": "stream",
     "text": [
      "Epoch 4 validation: Cross-entropy=-0.00, Accuracy=100.0%\n"
     ]
    },
    {
     "data": {
      "image/png": "[encoded data removed]",
      "text/plain": [
       "<Figure size 640x480 with 1 Axes>"
      ]
     },
     "metadata": {},
     "output_type": "display_data"
    },
    {
     "data": {
      "image/png": "[encoded data removed]",
      "text/plain": [
       "<Figure size 640x480 with 1 Axes>"
      ]
     },
     "metadata": {},
     "output_type": "display_data"
    },
    {
     "data": {
      "image/png": "[encoded data removed]",
      "text/plain": [
       "<Figure size 1600x1200 with 1 Axes>"
      ]
     },
     "metadata": {},
     "output_type": "display_data"
    }
   ],
   "source": [
    "print(len(Mon.categories_as_list))\n",
    "training_model(model=ann, \n",
    "               train_test=Mon,\n",
    "               learning_rate=0.001, n_epochs=5, batch_size=512)"
   ]
  },
  {
   "cell_type": "code",
   "execution_count": null,
   "id": "251d9333",
   "metadata": {},
   "outputs": [],
   "source": []
  }
 ],
 "metadata": {
  "kernelspec": {
   "display_name": "Python 3 (ipykernel)",
   "language": "python",
   "name": "python3"
  },
  "language_info": {
   "codemirror_mode": {
    "name": "ipython",
    "version": 3
   },
   "file_extension": ".py",
   "mimetype": "text/x-python",
   "name": "python",
   "nbconvert_exporter": "python",
   "pygments_lexer": "ipython3",
   "version": "3.8.17"
  }
 },
 "nbformat": 4,
 "nbformat_minor": 5
}
